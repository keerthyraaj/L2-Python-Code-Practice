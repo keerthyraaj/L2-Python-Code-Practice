{
 "cells": [
  {
   "cell_type": "markdown",
   "id": "d9401375",
   "metadata": {},
   "source": [
    "# Task 1:\n",
    "Make a program that asks for a note, between zero and ten. Show a message if the value is invalid and keep asking until the user enters a valid value."
   ]
  },
  {
   "cell_type": "code",
   "execution_count": 23,
   "id": "aad4b0e3",
   "metadata": {},
   "outputs": [
    {
     "name": "stdout",
     "output_type": "stream",
     "text": [
      "Enter the number between 0 and 10: 10\n",
      "The value is invalid\n",
      "Enter the number between 0 and 10: 0\n",
      "The value is invalid\n",
      "Enter the number between 0 and 10: -1\n",
      "The value is invalid\n",
      "Enter the number between 0 and 10: 11\n",
      "The value is invalid\n",
      "Enter the number between 0 and 10: 7\n"
     ]
    }
   ],
   "source": [
    "note = int(input('Enter the number between 0 and 10: '))\n",
    "while note not in range(1,10):\n",
    "    print(\"The value is invalid\")\n",
    "    note = int(input('Enter the number between 0 and 10: '))\n",
    "    \n",
    "\n",
    "    "
   ]
  },
  {
   "cell_type": "markdown",
   "id": "e8784d7a",
   "metadata": {},
   "source": [
    "# Task 2\n",
    "Make a program that reads a username and its password and does not \n",
    "accept the same password as the username, showing an error message and \n",
    "asking for the information again."
   ]
  },
  {
   "cell_type": "code",
   "execution_count": 9,
   "id": "54eea67b",
   "metadata": {},
   "outputs": [
    {
     "name": "stdout",
     "output_type": "stream",
     "text": [
      "Enter the username: keer\n",
      "Enter the password: keer\n",
      "ERROR - username and password should be different\n",
      "Enter the username: keer\n",
      "Enter the password: aart\n"
     ]
    }
   ],
   "source": [
    "username = input('Enter the username: ')\n",
    "password = input('Enter the password: ')\n",
    "while (username == password):\n",
    "    print(\"ERROR - username and password should be different\")\n",
    "    username = input('Enter the username: ')\n",
    "    password = input('Enter the password: ')\n",
    "    \n"
   ]
  },
  {
   "cell_type": "markdown",
   "id": "b072546a",
   "metadata": {},
   "source": [
    "# Task 3:"
   ]
  },
  {
   "cell_type": "raw",
   "id": "1d5ff923",
   "metadata": {},
   "source": [
    " Make a program that reads and validates the following information:\n",
    " Name: greater than 3 characters.\n",
    " Age: between 0 and 150.\n",
    " Salary: greater than zero.\n",
    " Gender: 'f' or 'm';\n",
    " Marital Status: 'm', 'w', 's', 'd', \"s\";\n",
    " Note: Use the len(string) function to find out the length of a text (number of \n",
    " characters)."
   ]
  },
  {
   "cell_type": "code",
   "execution_count": 25,
   "id": "c936f47a",
   "metadata": {},
   "outputs": [
    {
     "name": "stdout",
     "output_type": "stream",
     "text": [
      "Name: kee\n",
      "Invalid Name\n",
      "Name: keer\n",
      "Age: 0\n",
      "Invalid Age\n",
      "Age: 150\n",
      "Invalid Age\n",
      "Age: 70\n",
      "Salary: 0\n",
      "Invalid Salary\n",
      "Salary: -1\n",
      "Invalid Salary\n",
      "Salary: 70000\n",
      "Gender: k\n",
      "Invalid Gender\n",
      "Gender: m\n",
      "Marital_Status: k\n",
      "Invalid Marital_status\n",
      "Marital_Status: m\n"
     ]
    }
   ],
   "source": [
    "name = input('Name: ')\n",
    "while (len(name) < 4):\n",
    "    print(\"Invalid Name\")\n",
    "    name = input('Name: ')\n",
    "age = int(input('Age: '))\n",
    "while ((age < 1) or (age > 149)):\n",
    "    print(\"Invalid Age\")\n",
    "    age = int(input('Age: '))\n",
    "salary = int(input('Salary: '))\n",
    "while (salary <= 0):\n",
    "    print(\"Invalid Salary\")\n",
    "    salary = int(input('Salary: '))\n",
    "gender = input('Gender: ')\n",
    "while ((gender != 'f') and (gender !=  'm')):\n",
    "    print(\"Invalid Gender\")\n",
    "    gender = input('Gender: ')\n",
    "marital_status = ['m', 'w', 's', 'd', 's']\n",
    "Marital_status = input('Marital_Status: ')\n",
    "while Marital_status not in marital_status:\n",
    "    print(\"Invalid Marital_status\")\n",
    "    Marital_status = input('Marital_Status: ')\n",
    "    \n",
    "    \n",
    "    \n",
    "\n",
    "    "
   ]
  },
  {
   "cell_type": "markdown",
   "id": "442683b7",
   "metadata": {},
   "source": [
    "# Task 4:\n",
    "Assuming that the population of country A is in the order of 80,000 \n",
    "inhabitants with an annual growth rate of 3% and that the population of B is \n",
    "200,000 inhabitants with a growth rate of 1.5%. Make a program that \n",
    "calculates and writes down the number of years it takes for the population of \n",
    "country A to exceed or equal the population of country B, maintaining the \n",
    "growth rates."
   ]
  },
  {
   "cell_type": "code",
   "execution_count": 21,
   "id": "eea23ed7",
   "metadata": {},
   "outputs": [
    {
     "name": "stdout",
     "output_type": "stream",
     "text": [
      "The years taken for the population of country A to exceed or equal the population of country :  63\n"
     ]
    }
   ],
   "source": [
    "country_A = 80000\n",
    "country_B = 200000\n",
    "annual_growth_rate_of_country_A = 0.03\n",
    "annual_growth_rate_of_country_B = 0.015\n",
    "years = 0\n",
    "while (country_A < country_B):\n",
    "    country_A = country_A + (country_A * annual_growth_rate_of_country_A)\n",
    "    country_B = country_B + (country_B * annual_growth_rate_of_country_B)\n",
    "    years = years + 1\n",
    "print(\"The years taken for the population of country A to exceed or equal the population of country : \",years)\n",
    "    \n",
    "    "
   ]
  },
  {
   "cell_type": "markdown",
   "id": "87d5054a",
   "metadata": {},
   "source": [
    "# Task 5:\n",
    "Make a program that asks for 10 whole numbers, calculate, and display \n",
    "the number of even numbers and the number of odd numbers."
   ]
  },
  {
   "cell_type": "code",
   "execution_count": 12,
   "id": "f19257fd",
   "metadata": {},
   "outputs": [
    {
     "name": "stdout",
     "output_type": "stream",
     "text": [
      "Display Odd and Even numbers\n",
      "Enter the 10 whole numbers : \n",
      "Enter an whole numbers to be in a list : 4\n",
      "Enter an whole numbers to be in a list : 7\n",
      "Enter an whole numbers to be in a list : 9\n",
      "Enter an whole numbers to be in a list : 4\n",
      "Enter an whole numbers to be in a list : 10\n",
      "Enter an whole numbers to be in a list : 560\n",
      "Enter an whole numbers to be in a list : 3\n",
      "Enter an whole numbers to be in a list : 45\n",
      "Enter an whole numbers to be in a list : 90\n",
      "Enter an whole numbers to be in a list : 1\n",
      "Numbers :  [4, 7, 9, 4, 10, 560, 3, 45, 90, 1]\n",
      "The number of even numbers :  5\n",
      "The number of odd numbers :  5\n"
     ]
    }
   ],
   "source": [
    "print('Display Odd and Even numbers')\n",
    "print('Enter the 10 whole numbers : ')\n",
    "list = []\n",
    "for i in range(10):\n",
    "    numbers = int(input('Enter an whole numbers to be in a list : '))\n",
    "    list.append(numbers)\n",
    "print(\"Numbers : \",list)\n",
    "even = 0\n",
    "odd = 0\n",
    "for i in list:\n",
    "    if (i%2 == 0):\n",
    "        even = even + 1\n",
    "    else:\n",
    "        odd = odd + 1\n",
    "print(\"The number of even numbers : \",even)\n",
    "print(\"The number of odd numbers : \",odd)\n",
    "    \n",
    "    "
   ]
  },
  {
   "cell_type": "markdown",
   "id": "4f63cfb8",
   "metadata": {},
   "source": [
    "# Task 6: \n",
    "Write a program that asks for an integer and determine whether it is a \n",
    "prime number. A prime number is one that is divisible only by itself and by 1.\n"
   ]
  },
  {
   "cell_type": "code",
   "execution_count": 17,
   "id": "dbc2c968",
   "metadata": {},
   "outputs": [
    {
     "name": "stdout",
     "output_type": "stream",
     "text": [
      "Enter an number: 7\n",
      "7  is a prime number.\n"
     ]
    }
   ],
   "source": [
    "num = int(input('Enter an number: '))\n",
    "if (num < 2):\n",
    "    print(num,\" is not a prime number.\")\n",
    "for i in range(2,num):\n",
    "    if ((num % i) == 0 ):\n",
    "        print(num,\" is not a prime number.\")\n",
    "        break\n",
    "    else:\n",
    "        print(num,\" is a prime number.\")\n",
    "        break"
   ]
  },
  {
   "cell_type": "markdown",
   "id": "e7813a6d",
   "metadata": {},
   "source": [
    "# Task 7:\n",
    "In an election there are three candidates. Make a program that asks for \n",
    "the total number of voters. Ask each voter to vote and at the end show the \n",
    "number of votes for each candidate."
   ]
  },
  {
   "cell_type": "code",
   "execution_count": 76,
   "id": "c3824fe8",
   "metadata": {},
   "outputs": [
    {
     "name": "stdout",
     "output_type": "stream",
     "text": [
      "ELECTION CANDIDATES :\n",
      "\n",
      "1.Justin_Trudeau\n",
      "2.Erin_O_Toole\n",
      "3.Jagmeet_Singh\n",
      "\n",
      "The total number of voters: 5\n",
      "\n",
      "vote : Justin_Trudeau\n",
      "vote : Justin_Trudeau\n",
      "vote : Justin_Trudeau\n",
      "vote : Erin_O_Toole\n",
      "vote : Jagmeet_Singh\n",
      "\n",
      "ELECTION RESULTS :\n",
      "\n",
      "Justin_Trudeau :  3\n",
      "Erin_O_Toole :  1\n",
      "Jagmeet_Singh :  1\n"
     ]
    }
   ],
   "source": [
    "print(\"ELECTION CANDIDATES :\")\n",
    "print(\"\")\n",
    "print(\"1.Justin_Trudeau\")\n",
    "print(\"2.Erin_O_Toole\")\n",
    "print(\"3.Jagmeet_Singh\")\n",
    "Justin_Trudeau=0\n",
    "Erin_O_Toole=0\n",
    "Jagmeet_Singh=0\n",
    "print(\"\")\n",
    "voters = int(input('The total number of voters: '))\n",
    "print(\"\")\n",
    "for i in range(1,voters + 1):\n",
    "    i = input('vote : ')\n",
    "    if (i == \"Justin_Trudeau\"):\n",
    "        Justin_Trudeau = Justin_Trudeau + 1\n",
    "    if (i == \"Erin_O_Toole\"):\n",
    "        Erin_O_Toole = Erin_O_Toole + 1\n",
    "    if (i == \"Jagmeet_Singh\"):\n",
    "        Jagmeet_Singh = Jagmeet_Singh + 1\n",
    "print(\"\")\n",
    "print(\"ELECTION RESULTS :\")\n",
    "print(\"\")\n",
    "print(\"Justin_Trudeau : \",Justin_Trudeau)\n",
    "print(\"Erin_O_Toole : \",Erin_O_Toole)\n",
    "print(\"Jagmeet_Singh : \",Jagmeet_Singh)\n",
    "    "
   ]
  },
  {
   "cell_type": "markdown",
   "id": "650c0367",
   "metadata": {},
   "source": [
    "# Task 8:"
   ]
  },
  {
   "cell_type": "raw",
   "id": "6e54c07d",
   "metadata": {},
   "source": [
    "Make a program that receives the amount of a debt and show a table with \n",
    "the following data: debt amount, interest amount, number of installments and \n",
    "installment amount.\n",
    "Interest and the number of installments follow the table below:\n",
    "Number of Installments || % of Interest\n",
    "01 || 0\n",
    "03 || 10\n",
    "06 || 15\n",
    "09 || 20\n",
    "12 || 25\n",
    "Sample output from the program:\n",
    "Debt || Interest || N# Installments || Installment Amount\n",
    "$1,000.00 || 0 || 01 || $1,000.00\n",
    "$1,100.00 || 100 || 03 || $366.00\n",
    "$1,150.00 || 150 || 06 || $191.67"
   ]
  },
  {
   "cell_type": "code",
   "execution_count": 15,
   "id": "d1b90cc2",
   "metadata": {},
   "outputs": [
    {
     "name": "stdout",
     "output_type": "stream",
     "text": [
      "The amount of a debt : 1000\n",
      "Debt || Interest || N# Installments || Installment Amount\n",
      "$ 1000  ||  0  ||  1  ||  $ 1000.0\n",
      "$ 1100.0  ||  100.0  ||  3  ||  $ 366.6666666666667\n",
      "$ 1150.0  ||  150.0  ||  6  ||  $ 191.66666666666666\n",
      "$ 1200.0  ||  200.0  ||  9  ||  $ 133.33333333333334\n",
      "$ 1250.0  ||  250.0  ||  12  ||  $ 104.16666666666667\n"
     ]
    }
   ],
   "source": [
    "debt = int(input('The amount of a debt : '))\n",
    "print(\"Debt || Interest || N# Installments || Installment Amount\")\n",
    "installments = [1,3,6,9,12]\n",
    "for i in installments:\n",
    "    if (i == 1):\n",
    "        interest_1 = 0\n",
    "        debt_1 = debt + (debt * interest_1)\n",
    "        in_1 = debt_1 - debt\n",
    "        no_of_ins_1 = i\n",
    "        ins_amo_1 = debt_1 / i\n",
    "        print(\"$\",debt_1,\" || \",in_1,\" || \",no_of_ins_1,\" || \",\"$\",ins_amo_1)\n",
    "    if (i == 3):\n",
    "        interest_3 = 10/100\n",
    "        debt_3 = debt + (debt * interest_3)\n",
    "        in_3 = debt_3 - debt\n",
    "        no_of_ins_3 = i\n",
    "        ins_amo_3 = debt_3 / i\n",
    "        print(\"$\",debt_3,\" || \",in_3,\" || \",no_of_ins_3,\" || \",\"$\",ins_amo_3)\n",
    "    if (i == 6):\n",
    "        interest_6 = 15/100\n",
    "        debt_6 = debt + (debt * interest_6)\n",
    "        in_6 = debt_6 - debt\n",
    "        no_of_ins_6 = i\n",
    "        ins_amo_6 = debt_6 / i\n",
    "        print(\"$\",debt_6,\" || \",in_6,\" || \",no_of_ins_6,\" || \",\"$\",ins_amo_6)\n",
    "    if (i == 9):\n",
    "        interest_9 = 20/100\n",
    "        debt_9 = debt + (debt * interest_9)\n",
    "        in_9 = debt_9 - debt\n",
    "        no_of_ins_9 = i\n",
    "        ins_amo_9 = debt_9 / i\n",
    "        print(\"$\",debt_9,\" || \",in_9,\" || \",no_of_ins_9,\" || \",\"$\",ins_amo_9)\n",
    "    if (i == 12):\n",
    "        interest_12 = 25/100\n",
    "        debt_12 = debt + (debt * interest_12)\n",
    "        in_12 = debt_12 - debt\n",
    "        no_of_ins_12 = i\n",
    "        ins_amo_12 = debt_12 / i\n",
    "        print(\"$\",debt_12,\" || \",in_12,\" || \",no_of_ins_12,\" || \",\"$\",ins_amo_12)\n",
    "\n",
    "        "
   ]
  },
  {
   "cell_type": "markdown",
   "id": "5bd200fb",
   "metadata": {},
   "source": [
    "# Task 9:\n",
    "Write a program that reads an indeterminate amount of positive numbers \n",
    "and counts how many of them are in the following ranges: [0-25], [26-50], \n",
    "[51-75] and [76-100]. Data entry must end when a negative number is read.\n"
   ]
  },
  {
   "cell_type": "code",
   "execution_count": 26,
   "id": "4cc86a4f",
   "metadata": {},
   "outputs": [
    {
     "name": "stdout",
     "output_type": "stream",
     "text": [
      "Enter the count of numbers to be in a list : 5\n",
      "Enter the numbers to be in a list : 56\n",
      "Enter the numbers to be in a list : 78\n",
      "Enter the numbers to be in a list : 90\n",
      "Enter the numbers to be in a list : 78\n",
      "Enter the numbers to be in a list : 105\n",
      "Numbers :  [56, 78, 90, 78, 105]\n",
      "[0-25] :  0\n",
      "[26-50] :  0\n",
      "[51-75] :  1\n",
      "[76-100] :  3\n"
     ]
    }
   ],
   "source": [
    "a = 0\n",
    "b = 0\n",
    "c = 0\n",
    "d = 0\n",
    "count = int(input('Enter the count of numbers to be in a list : '))\n",
    "list = []\n",
    "for i in range(count):\n",
    "    numbers = int(input('Enter the numbers to be in a list : '))\n",
    "    list.append(numbers)\n",
    "print(\"Numbers : \",list)\n",
    "for i in list:\n",
    "    if (i < 0):\n",
    "        break\n",
    "    if ((i >= 0) and (i <= 25)):\n",
    "        a = a + 1\n",
    "    if ((i >= 26) and (i <= 50)):\n",
    "        b = b + 1\n",
    "    if ((i >= 51) and (i <= 75)):\n",
    "        c = c + 1\n",
    "    if ((i >= 76) and (i <= 100)):\n",
    "        d = d + 1\n",
    "print(\"[0-25] : \",a)\n",
    "print(\"[26-50] : \",b)\n",
    "print(\"[51-75] : \",c)\n",
    "print(\"[76-100] : \",d)\n",
    "\n",
    "        \n",
    "        \n",
    "    "
   ]
  },
  {
   "cell_type": "markdown",
   "id": "9450027e",
   "metadata": {},
   "source": [
    "# Task 10\n"
   ]
  },
  {
   "cell_type": "raw",
   "id": "41055184",
   "metadata": {},
   "source": [
    "In a gymnastics competition, each athlete receives votes from seven \n",
    "judges. The best and worst grades are eliminated. Your grade is the average \n",
    "of the remaining votes. You must make a program that receives the gymnast's \n",
    "name and the grades of the seven judges achieved by the athlete in his \n",
    "presentation and then inform his average, as described above (remove the \n",
    "best and worst jump and then calculate the average with the remaining \n",
    "notes). \n",
    "Notes are not reported ordered. An example of program output should look \n",
    "like the example below:\n",
    "Athlete: Richard Brenon\n",
    "Grade: 9.9\n",
    "Grade: 7.5\n",
    "Grade: 9.5\n",
    "Grade: 8.5\n",
    "Grade: 9.0\n",
    "Grade: 8.5\n",
    "Grade: 9.7\n",
    "Result:\n",
    "• Athlete: Richard Brenon\n",
    "• Best grade: 9.9\n",
    "• Worst grade: 7.5\n",
    "• Average: 9.0"
   ]
  },
  {
   "cell_type": "code",
   "execution_count": 27,
   "id": "d7df28d2",
   "metadata": {},
   "outputs": [
    {
     "name": "stdout",
     "output_type": "stream",
     "text": [
      "Athlete: keer\n",
      "Enter any grade from 0 to 10\n",
      "Grade: 5.6\n",
      "Grade: 7.8\n",
      "Grade: 9\n",
      "Grade: 10\n",
      "Grade: 8\n",
      "Grade: 9\n",
      "Grade: 10\n",
      "Result:\n",
      "Best grade:  10.0\n",
      "Worst grade:  5.6\n",
      "Average:  8.76\n"
     ]
    }
   ],
   "source": [
    "Athlete = input('Athlete: ')\n",
    "print(\"Enter any grade from 0 to 10\")\n",
    "lis = []\n",
    "for i in range(7):\n",
    "    grade = float(input('Grade: '))\n",
    "    lis.append(grade)\n",
    "print(\"Result:\")\n",
    "print(\"Best grade: \",max(lis))\n",
    "print(\"Worst grade: \",min(lis))\n",
    "lis.remove(max(lis))\n",
    "lis.remove(min(lis))\n",
    "print(\"Average: \",sum(lis) / len(lis))\n"
   ]
  },
  {
   "cell_type": "markdown",
   "id": "b77b3358",
   "metadata": {},
   "source": [
    "### "
   ]
  },
  {
   "cell_type": "code",
   "execution_count": null,
   "id": "6043479c",
   "metadata": {},
   "outputs": [],
   "source": []
  }
 ],
 "metadata": {
  "kernelspec": {
   "display_name": "Python 3",
   "language": "python",
   "name": "python3"
  },
  "language_info": {
   "codemirror_mode": {
    "name": "ipython",
    "version": 3
   },
   "file_extension": ".py",
   "mimetype": "text/x-python",
   "name": "python",
   "nbconvert_exporter": "python",
   "pygments_lexer": "ipython3",
   "version": "3.8.8"
  }
 },
 "nbformat": 4,
 "nbformat_minor": 5
}
